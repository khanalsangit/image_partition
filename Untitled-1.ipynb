{
 "cells": [
  {
   "cell_type": "code",
   "execution_count": 3,
   "metadata": {},
   "outputs": [],
   "source": [
    "import cv2 as cv\n",
    "import numpy as np"
   ]
  },
  {
   "cell_type": "code",
   "execution_count": 6,
   "metadata": {},
   "outputs": [
    {
     "name": "stdout",
     "output_type": "stream",
     "text": [
      "049\n"
     ]
    }
   ],
   "source": [
    "def generate_random_string(length):\n",
    "    characters = '0123456789'\n",
    "    return ''.join(np.random.choice(list(characters), size=length))\n",
    "\n",
    "\n",
    "blank_image=cv.imread(\"pink_blank.jpg\")\n",
    "texts=[\"*MRP RS.605/-\", \"#09/07/23 A 016\", \"##NET VOL.625ML\"]\n",
    "random_string = generate_random_string(3)\n",
    "print(random_string)\n",
    "for i,text in enumerate(texts):\n",
    "    image = cv.putText(blank_image, text.replace(\"605\",random_string), (200,130+i*70),  cv.FONT_HERSHEY_SIMPLEX, 2, (0,0,0), 2)                  \n",
    "cv.imshow(\"blank_image\",image)\n",
    "cv.waitKey(0)\n",
    "cv.destroyAllWindows()"
   ]
  },
  {
   "cell_type": "code",
   "execution_count": 99,
   "metadata": {},
   "outputs": [],
   "source": [
    "from PIL import ImageFont, ImageDraw, Image\n",
    "def generate_random_string(length):\n",
    "    characters = '0123456789'\n",
    "    return ''.join(np.random.choice(list(characters), size=length))\n",
    "\n",
    "def text_font(path):\n",
    "    font_path=path\n",
    "    font=ImageFont.truetype(font_path,32)\n",
    "    return font\n",
    "\n",
    "blank_image=cv.imread(\"pink_blank.jpg\")\n",
    "texts=[\"*MRP RS.605/-\"]\n",
    "random_string = generate_random_string(3)\n",
    "font=text_font(r\"D:\\computervision\\PaddleOCR\\fonts\\fonts\\inkjet\\inkjet Regular.otf\")\n",
    "img_pil = Image.fromarray(blank_image)\n",
    "draw = ImageDraw.Draw(img_pil)\n",
    "draw.text((200, 150),  \"MRP RS 650/-\", font=font, fill = (0,0,0))\n",
    "img = np.array(img_pil)\n",
    "# print(random_string)\n",
    "# for i,text in enumerate(texts):\n",
    "#     image = cv.putText(blank_image, text.replace(\"605\",random_string), (200,130+i*70),  cv.FONT_HERSHEY_SIMPLEX, 2, (0,0,0), 2)                  \n",
    "cv.imshow(\"blank_image\",img)\n",
    "cv.waitKey(0)\n",
    "cv.destroyAllWindows()"
   ]
  },
  {
   "cell_type": "code",
   "execution_count": 95,
   "metadata": {},
   "outputs": [
    {
     "name": "stdout",
     "output_type": "stream",
     "text": [
      "<PIL.ImageFont.FreeTypeFont object at 0x000001F04110BAF0>\n"
     ]
    }
   ],
   "source": [
    "# function to return text font\n",
    "from PIL import Image, ImageFont\n",
    "def text_font(path):\n",
    "    font_path=path\n",
    "    font=ImageFont.truetype(font_path,32)\n",
    "    return font\n",
    "\n",
    "fonts=text_font(r\"D:\\computervision\\PaddleOCR\\fonts\\fonts\\inkjet\\inkjet Regular.otf\")\n",
    "print(fonts)"
   ]
  },
  {
   "cell_type": "code",
   "execution_count": 64,
   "metadata": {},
   "outputs": [
    {
     "name": "stdout",
     "output_type": "stream",
     "text": [
      "173\n",
      "*MRP RS.173/-\n"
     ]
    }
   ],
   "source": [
    "text=\"*MRP RS.605/-\"\n",
    "def generate_random_string(length):\n",
    "    characters = '0123456789'\n",
    "    return ''.join(np.random.choice(list(characters), size=length))\n",
    "\n",
    "random_string = generate_random_string(3)  \n",
    "print(random_string)\n",
    "print(text.replace(\"605\",random_string))"
   ]
  },
  {
   "cell_type": "code",
   "execution_count": 59,
   "metadata": {},
   "outputs": [
    {
     "name": "stdout",
     "output_type": "stream",
     "text": [
      "<class 'str'>\n"
     ]
    }
   ],
   "source": [
    "import numpy as np\n",
    "\n",
    "def generate_random_string(length):\n",
    "    characters = 'abcdefghijklmnopqrstuvwxyzABCDEFGHIJKLMNOPQRSTUVWXYZ0123456789'\n",
    "    return ''.join(np.random.choice(list(characters), size=length))\n",
    "\n",
    "random_string = generate_random_string(1)  \n",
    "print(type(random_string))\n"
   ]
  },
  {
   "cell_type": "code",
   "execution_count": 98,
   "metadata": {},
   "outputs": [
    {
     "name": "stdout",
     "output_type": "stream",
     "text": [
      "<PIL.ImageFont.FreeTypeFont object at 0x000001F06583B250>\n"
     ]
    },
    {
     "data": {
      "text/plain": [
       "True"
      ]
     },
     "execution_count": 98,
     "metadata": {},
     "output_type": "execute_result"
    }
   ],
   "source": [
    "import numpy as np\n",
    "from PIL import ImageFont, ImageDraw, Image\n",
    "import cv2\n",
    "import time\n",
    "\n",
    "## Make canvas and set the color\n",
    "img = np.zeros((200,400,3),np.uint8)\n",
    "b,g,r,a = 0,255,0,0\n",
    "\n",
    "## Use cv2.FONT_HERSHEY_XXX to write English.\n",
    "text = time.strftime(\"%Y/%m/%d %H:%M:%S %Z\", time.localtime()) \n",
    "cv2.putText(img,  text, (50,50), cv2.FONT_HERSHEY_SIMPLEX, 0.7, (b,g,r), 1, cv2.LINE_AA)\n",
    "\n",
    "## Use simsum.ttc to write Chinese.\n",
    "fontpath = r\"D:\\computervision\\PaddleOCR\\fonts\\fonts\\inkjet\\inkjet Regular.otf\"     \n",
    "font = ImageFont.truetype(fontpath, 32)\n",
    "print(font)\n",
    "img_pil = Image.fromarray(img)\n",
    "draw = ImageDraw.Draw(img_pil)\n",
    "draw.text((50, 100),  \"MRP RS 650/-\", font = font, fill = (b, g, r, a))\n",
    "img = np.array(img_pil)\n",
    "\n",
    "## Display \n",
    "cv2.imshow(\"res\", img);cv2.waitKey();cv2.destroyAllWindows()\n",
    "cv2.imwrite(\"res.png\", img)"
   ]
  },
  {
   "cell_type": "code",
   "execution_count": 5,
   "metadata": {},
   "outputs": [
    {
     "name": "stdout",
     "output_type": "stream",
     "text": [
      "353\n",
      "52\n",
      "365\n",
      "52\n",
      "361\n",
      "47\n"
     ]
    }
   ],
   "source": [
    "\n",
    "\n",
    "from PIL import Image, ImageFont, ImageDraw \n",
    " \n",
    "image = Image.open(r'pink_blank.jpg') \n",
    "draw = ImageDraw.Draw(image) \n",
    "font = ImageFont.truetype(r'D:\\computervision\\PaddleOCR\\fonts\\fonts\\inkjet\\inkjet Regular.otf', 64) \n",
    "for i in range(0,3):\n",
    "    text = generate_random_string(15)\n",
    "    bbox = font.getbbox(text)\n",
    "    text_width = bbox[2] - bbox[0]\n",
    "    text_height = bbox[3] - bbox[1]\n",
    "    print(text_width)\n",
    "    print(text_height)\n",
    "    # print(font.getwidth(text))\n",
    "    draw.text((250, 90+i*60), text, fill =\"black\", font = font,spacing=20) \n",
    "    draw.rectangle((250-10,90+i*60,text_width+250,text_height+(10+90+i*60)),outline=\"yellow\")\n",
    "image.show() \n"
   ]
  },
  {
   "cell_type": "code",
   "execution_count": 4,
   "metadata": {},
   "outputs": [
    {
     "name": "stdout",
     "output_type": "stream",
     "text": [
      "<class 'str'>\n"
     ]
    }
   ],
   "source": [
    "def generate_random_string(length):\n",
    "    characters = 'abcdefghijklmnopqrstuvwxyzABCDEFGHIJKLMNOPQRSTUVWXYZ0123456789'\n",
    "    return ''.join(np.random.choice(list(characters), size=length))\n",
    "\n",
    "label=generate_random_string(15)\n",
    "print(type(label))"
   ]
  },
  {
   "cell_type": "code",
   "execution_count": 175,
   "metadata": {},
   "outputs": [],
   "source": [
    "from PIL import Image, ImageFont, ImageDraw \n",
    " \n",
    "image = Image.open(r'pink_blank.jpg') \n",
    "draw = ImageDraw.Draw(image) \n",
    "image.show()"
   ]
  },
  {
   "cell_type": "code",
   "execution_count": 20,
   "metadata": {},
   "outputs": [
    {
     "name": "stdout",
     "output_type": "stream",
     "text": [
      " NPR 685 NPR\n"
     ]
    }
   ],
   "source": [
    "import numpy as np\n",
    "\n",
    "def generate_random_string(length):\n",
    "    characters = '#MRP NPR 685/-'\n",
    "    # Create chunks of 3 characters each\n",
    "    chunks = [characters[i:i+4] for i in range(0, len(characters), 4)]\n",
    "    \n",
    "    if length % 3 != 0:\n",
    "        raise ValueError(\"Length must be a multiple of 3\")\n",
    "\n",
    "    # Randomly select the chunks and join them\n",
    "    return ''.join(np.random.choice(chunks, size=length // 3))\n",
    "\n",
    "# Example usage\n",
    "length = 9  # Length must be a multiple of 3\n",
    "random_string = generate_random_string(length)\n",
    "print(random_string)\n"
   ]
  },
  {
   "cell_type": "code",
   "execution_count": 80,
   "metadata": {},
   "outputs": [
    {
     "name": "stdout",
     "output_type": "stream",
     "text": [
      "['NPR', '#MRP']\n"
     ]
    }
   ],
   "source": [
    "import random\n",
    "characters = '#MRP NPR 685/-'.split(\" \")\n",
    "# list=characters.split(' ')\n",
    "list=[]\n",
    "for i in range(1,3):\n",
    "    add=random.choice(characters)\n",
    "    list.append(add)\n",
    "\n",
    "print(list)    \n"
   ]
  },
  {
   "cell_type": "code",
   "execution_count": 74,
   "metadata": {},
   "outputs": [
    {
     "name": "stdout",
     "output_type": "stream",
     "text": [
      "['NPR', '#MRP']\n"
     ]
    }
   ],
   "source": [
    "import random\n",
    "\n",
    "# Your list with 3 elements\n",
    "my_list = ['#MRP', 'NPR', '685/-']\n",
    "\n",
    "# Function to generate a random subset\n",
    "def generate_random_subset(input_list, number):\n",
    "    if number > len(input_list):\n",
    "        raise ValueError(\"The number cannot be greater than the length of the input list.\")\n",
    "    \n",
    "    temp_list = input_list.copy()\n",
    "    random_gen = []\n",
    "    \n",
    "    for _ in range(number):\n",
    "        x = random.choice(temp_list)\n",
    "        random_gen.append(x)\n",
    "        temp_list.remove(x)\n",
    "\n",
    "    return random_gen\n",
    "\n",
    "# Example usage\n",
    "random_subset = generate_random_subset(my_list, random.randrange(1,3))\n",
    "\n",
    "print(random_subset)\n"
   ]
  },
  {
   "cell_type": "code",
   "execution_count": 11,
   "metadata": {},
   "outputs": [
    {
     "data": {
      "text/plain": [
       "'2'"
      ]
     },
     "execution_count": 11,
     "metadata": {},
     "output_type": "execute_result"
    }
   ],
   "source": [
    "import random\n",
    "characters = '*MRP Rs. 250/-'\n",
    "random.choice(characters)"
   ]
  },
  {
   "cell_type": "code",
   "execution_count": 16,
   "metadata": {},
   "outputs": [
    {
     "data": {
      "text/plain": [
       "0"
      ]
     },
     "execution_count": 16,
     "metadata": {},
     "output_type": "execute_result"
    }
   ],
   "source": [
    "random.choices([0, 1], weights=[0.8, 0.2])[0] "
   ]
  },
  {
   "cell_type": "code",
   "execution_count": 22,
   "metadata": {},
   "outputs": [
    {
     "ename": "TypeError",
     "evalue": "Random.choice() got an unexpected keyword argument 'weights'",
     "output_type": "error",
     "traceback": [
      "\u001b[1;31m---------------------------------------------------------------------------\u001b[0m",
      "\u001b[1;31mTypeError\u001b[0m                                 Traceback (most recent call last)",
      "Input \u001b[1;32mIn [22]\u001b[0m, in \u001b[0;36m<cell line: 3>\u001b[1;34m()\u001b[0m\n\u001b[0;32m      2\u001b[0m b\u001b[38;5;241m=\u001b[39m\u001b[38;5;241m1\u001b[39m\n\u001b[0;32m      3\u001b[0m \u001b[38;5;28;01mif\u001b[39;00m b\u001b[38;5;241m>\u001b[39m\u001b[38;5;241m0\u001b[39m:\n\u001b[1;32m----> 4\u001b[0m     \u001b[38;5;28mprint\u001b[39m(\u001b[38;5;124m\"\u001b[39m\u001b[38;5;124mif\u001b[39m\u001b[38;5;124m\"\u001b[39m,\u001b[43mrandom\u001b[49m\u001b[38;5;241;43m.\u001b[39;49m\u001b[43mchoice\u001b[49m\u001b[43m(\u001b[49m\u001b[43ma\u001b[49m\u001b[43m,\u001b[49m\u001b[43mweights\u001b[49m\u001b[38;5;241;43m=\u001b[39;49m\u001b[43m(\u001b[49m\u001b[38;5;241;43m10\u001b[39;49m\u001b[43m,\u001b[49m\u001b[43m \u001b[49m\u001b[38;5;241;43m20\u001b[39;49m\u001b[43m,\u001b[49m\u001b[43m \u001b[49m\u001b[38;5;241;43m30\u001b[39;49m\u001b[43m,\u001b[49m\u001b[43m \u001b[49m\u001b[38;5;241;43m40\u001b[39;49m\u001b[43m,\u001b[49m\u001b[43m \u001b[49m\u001b[38;5;241;43m50\u001b[39;49m\u001b[43m)\u001b[49m\u001b[43m,\u001b[49m\u001b[43m \u001b[49m\u001b[43mk\u001b[49m\u001b[38;5;241;43m=\u001b[39;49m\u001b[38;5;241;43m1\u001b[39;49m\u001b[43m)\u001b[49m)\n\u001b[0;32m      5\u001b[0m \u001b[38;5;28;01melse\u001b[39;00m:\n\u001b[0;32m      6\u001b[0m     \u001b[38;5;28mprint\u001b[39m(\u001b[38;5;124m\"\u001b[39m\u001b[38;5;124melse\u001b[39m\u001b[38;5;124m\"\u001b[39m,random\u001b[38;5;241m.\u001b[39mchoice(a,p\u001b[38;5;241m=\u001b[39m[\u001b[38;5;241m1\u001b[39m]))\n",
      "\u001b[1;31mTypeError\u001b[0m: Random.choice() got an unexpected keyword argument 'weights'"
     ]
    }
   ],
   "source": [
    "a=[10,20]\n",
    "b=1\n",
    "if b>0:\n",
    "    print(\"if\",random.choice(a,weights=(10, 20, 30, 40, 50), k=1))\n",
    "else:\n",
    "    print(\"else\",random.choice(a,p=[1]))"
   ]
  },
  {
   "cell_type": "code",
   "execution_count": 35,
   "metadata": {},
   "outputs": [
    {
     "name": "stdout",
     "output_type": "stream",
     "text": [
      "1\n"
     ]
    }
   ],
   "source": [
    "import random\n",
    "\n",
    "def generate_random_string():\n",
    "    items = ['*MRP Rs. 250/-', '#26/06/23 A 005', '##NET VOL.200ML']\n",
    "    characters = random.choice(items).split(\" \")\n",
    "\n",
    "    # Simulate a weighted guess with higher chance for rand_guess=1\n",
    "    rand_guess = random.choices([0, 1], weights=[0.2, 0.8])[0]\n",
    "    print(rand_guess)\n",
    "generate_random_string()    "
   ]
  },
  {
   "cell_type": "code",
   "execution_count": 36,
   "metadata": {},
   "outputs": [
    {
     "data": {
      "text/plain": [
       "'d:\\\\computervision\\\\PaddleOCR\\\\blank_images\\\\blank_images'"
      ]
     },
     "execution_count": 36,
     "metadata": {},
     "output_type": "execute_result"
    }
   ],
   "source": [
    "import os\n",
    "os.getcwd()"
   ]
  },
  {
   "cell_type": "code",
   "execution_count": 2,
   "metadata": {},
   "outputs": [
    {
     "name": "stdout",
     "output_type": "stream",
     "text": [
      "0\n",
      "1\n",
      "2\n",
      "3\n",
      "4\n",
      "5\n",
      "6\n",
      "7\n",
      "8\n",
      "9\n"
     ]
    }
   ],
   "source": [
    "for i in range(0,10):\n",
    "    print(i)"
   ]
  },
  {
   "cell_type": "code",
   "execution_count": 1,
   "metadata": {},
   "outputs": [
    {
     "data": {
      "text/plain": [
       "237"
      ]
     },
     "execution_count": 1,
     "metadata": {},
     "output_type": "execute_result"
    }
   ],
   "source": [
    "import random\n",
    "random.randrange(200,250)"
   ]
  },
  {
   "cell_type": "code",
   "execution_count": null,
   "metadata": {},
   "outputs": [],
   "source": []
  }
 ],
 "metadata": {
  "kernelspec": {
   "display_name": "Python 3",
   "language": "python",
   "name": "python3"
  },
  "language_info": {
   "codemirror_mode": {
    "name": "ipython",
    "version": 3
   },
   "file_extension": ".py",
   "mimetype": "text/x-python",
   "name": "python",
   "nbconvert_exporter": "python",
   "pygments_lexer": "ipython3",
   "version": "3.10.5"
  }
 },
 "nbformat": 4,
 "nbformat_minor": 2
}
